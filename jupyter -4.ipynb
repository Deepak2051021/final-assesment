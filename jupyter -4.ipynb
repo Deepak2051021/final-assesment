{
 "cells": [
  {
   "cell_type": "markdown",
   "metadata": {},
   "source": [
    "### objectives:\n",
    "1. Github account creations\n",
    "2. for loop\n",
    "3. functions\n",
    "4. git commands"
   ]
  },
  {
   "cell_type": "code",
   "execution_count": 1,
   "metadata": {},
   "outputs": [
    {
     "name": "stdout",
     "output_type": "stream",
     "text": [
      "10 20 [2, 3, 4, 6, 10, 9, 7, 'abc', True]\n"
     ]
    }
   ],
   "source": [
    "x = 10\n",
    "y = 20\n",
    "z =[2,3,4,6,10,9,7,\"abc\",True] #list\n",
    "print(x,y,z)"
   ]
  },
  {
   "cell_type": "markdown",
   "metadata": {},
   "source": [
    "### synatx: for variable in (iterable obj or range()):\n",
    "           .............................."
   ]
  },
  {
   "cell_type": "code",
   "execution_count": 4,
   "metadata": {},
   "outputs": [
    {
     "name": "stdout",
     "output_type": "stream",
     "text": [
      "2\n",
      "3\n",
      "4\n",
      "6\n",
      "10\n",
      "9\n",
      "7\n",
      "abc\n",
      "True\n"
     ]
    }
   ],
   "source": [
    " list1 = [2, 3, 4, 6, 10, 9, 7, 'abc', True] #iterable means repeating\n",
    "for i in list1:\n",
    "     print(i)"
   ]
  },
  {
   "cell_type": "code",
   "execution_count": 12,
   "metadata": {},
   "outputs": [
    {
     "name": "stdout",
     "output_type": "stream",
     "text": [
      "67\n",
      "98\n",
      "56\n",
      "45\n",
      "87\n",
      "0.632\n",
      "nbv\n",
      "ert\n",
      "False\n",
      "Deepak\n",
      "Sudheer\n",
      "Vijay\n"
     ]
    }
   ],
   "source": [
    "list1 = [67,98,56,45,87,0.632,'nbv',\"ert\",'False',\"Deepak\",\"Sudheer\",\"Vijay\"]\n",
    "for i in list1:\n",
    "    print(i)"
   ]
  },
  {
   "cell_type": "markdown",
   "metadata": {},
   "source": [
    "## Create a list with integer values and display only even numbers from the list"
   ]
  },
  {
   "cell_type": "code",
   "execution_count": 13,
   "metadata": {},
   "outputs": [],
   "source": [
    "#list :{45,56,67,78,22}\n",
    "#output: 56"
   ]
  },
  {
   "cell_type": "code",
   "execution_count": 20,
   "metadata": {},
   "outputs": [
    {
     "name": "stdout",
     "output_type": "stream",
     "text": [
      "78\n",
      "22\n",
      "56\n"
     ]
    }
   ],
   "source": [
    "#list :{45,56,67,78,22}\n",
    "#output: 56\n",
    "list1 = {45,56,67,78,22}\n",
    "for i in list1:\n",
    "    if i%2==0:\n",
    "        print(i)"
   ]
  },
  {
   "cell_type": "code",
   "execution_count": 21,
   "metadata": {},
   "outputs": [
    {
     "name": "stdout",
     "output_type": "stream",
     "text": [
      "1 2 3 4 5 6 7 8 9 10 "
     ]
    }
   ],
   "source": [
    "#for i in range( start end step)\n",
    "for i in range (1,11):#1,2,3...10\n",
    "    print(i,end=\" \")"
   ]
  },
  {
   "cell_type": "code",
   "execution_count": 22,
   "metadata": {},
   "outputs": [
    {
     "name": "stdout",
     "output_type": "stream",
     "text": [
      "1 3 5 7 9 11 13 15 17 19 "
     ]
    }
   ],
   "source": [
    "for i in range(1,20,2):#1,2,3,.....10\n",
    "    print (i,end=\" \")"
   ]
  },
  {
   "cell_type": "markdown",
   "metadata": {},
   "source": [
    "## create a list and display the elements of the list 3 different \n",
    "### while loop\n",
    "### use for loop but dont use name of iterable obj in for loop syntx use range()\n",
    "## 5th table \n",
    "## no of digits"
   ]
  },
  {
   "cell_type": "code",
   "execution_count": 23,
   "metadata": {},
   "outputs": [
    {
     "name": "stdout",
     "output_type": "stream",
     "text": [
      "enter the value30\n",
      "1\n",
      "4\n",
      "7\n",
      "10\n",
      "13\n",
      "16\n",
      "19\n",
      "22\n",
      "25\n",
      "28\n"
     ]
    }
   ],
   "source": [
    "i =1 #start\n",
    "n =int(input(\"enter the value\")) #end\n",
    "while i<=n:\n",
    "    print(i)\n",
    "    i +=3 # update"
   ]
  },
  {
   "cell_type": "markdown",
   "metadata": {},
   "source": [
    "## functions : built-in functions and user-defined functions\n",
    "### built-in: already created def is available \n",
    "## user-defined : created by the user "
   ]
  },
  {
   "cell_type": "code",
   "execution_count": 24,
   "metadata": {},
   "outputs": [
    {
     "name": "stdout",
     "output_type": "stream",
     "text": [
      "46\n",
      "79\n"
     ]
    }
   ],
   "source": [
    "#user-defined functions\n",
    "def addition(a,b): #function defination\n",
    "    sum =a+b\n",
    "    print (sum)\n",
    "addition(12,34) #calling a function\n",
    "addition(23,56) "
   ]
  },
  {
   "cell_type": "code",
   "execution_count": null,
   "metadata": {},
   "outputs": [],
   "source": []
  }
 ],
 "metadata": {
  "kernelspec": {
   "display_name": "Python 3",
   "language": "python",
   "name": "python3"
  },
  "language_info": {
   "codemirror_mode": {
    "name": "ipython",
    "version": 3
   },
   "file_extension": ".py",
   "mimetype": "text/x-python",
   "name": "python",
   "nbconvert_exporter": "python",
   "pygments_lexer": "ipython3",
   "version": "3.7.3"
  }
 },
 "nbformat": 4,
 "nbformat_minor": 2
}
